{
 "cells": [
  {
   "cell_type": "code",
   "execution_count": 11,
   "metadata": {},
   "outputs": [],
   "source": [
    "import numpy as np"
   ]
  },
  {
   "attachments": {},
   "cell_type": "markdown",
   "metadata": {},
   "source": [
    "# Create User-Rating (Utility) Matrix"
   ]
  },
  {
   "cell_type": "code",
   "execution_count": 12,
   "metadata": {},
   "outputs": [],
   "source": [
    "def create_utility_matrix(idx_row, idx_col, data, size):\n",
    "    utility_matrix = np.empty(size)\n",
    "    utility_matrix.fill(np.NaN)\n",
    "\n",
    "    for i in range(len(data)):\n",
    "        utility_matrix[idx_row[i], idx_col[i]] = data[i]\n",
    "\n",
    "    return utility_matrix"
   ]
  },
  {
   "cell_type": "code",
   "execution_count": 13,
   "metadata": {},
   "outputs": [
    {
     "data": {
      "text/plain": [
       "array([[ 1., nan,  3., nan, nan,  5., nan, nan,  5., nan,  4., nan],\n",
       "       [nan, nan,  5.,  4., nan, nan,  4., nan, nan,  2.,  1.,  3.],\n",
       "       [ 2.,  4., nan,  1.,  2., nan,  3., nan,  4.,  3.,  5., nan],\n",
       "       [nan,  2.,  4., nan,  5., nan, nan,  4., nan, nan,  2., nan],\n",
       "       [nan, nan,  4.,  3.,  4.,  2., nan, nan, nan, nan,  2.,  5.],\n",
       "       [ 1., nan,  3., nan,  3., nan, nan,  2., nan, nan,  4., nan]])"
      ]
     },
     "execution_count": 13,
     "metadata": {},
     "output_type": "execute_result"
    }
   ],
   "source": [
    "# Fill util matrix\n",
    "row = np.array([0, 0, 0, 0, 0, \n",
    "                1, 1, 1, 1, 1, 1,\n",
    "                2, 2, 2, 2, 2, 2, 2, 2,\n",
    "                3, 3, 3, 3, 3,\n",
    "                4, 4, 4, 4, 4, 4,\n",
    "                5, 5, 5, 5, 5])\n",
    "col = np.array([0, 2, 5, 8, 10,\n",
    "                2, 3, 6, 9, 10, 11,\n",
    "                0, 1, 3, 4, 6, 8, 9, 10,\n",
    "                1, 2, 4, 7, 10,\n",
    "                2, 3, 4, 5, 10, 11,\n",
    "                0, 2, 4, 7, 10])\n",
    "data = np.array([1, 3, 5, 5, 4,\n",
    "                 5, 4, 4, 2, 1, 3,\n",
    "                 2, 4, 1, 2, 3, 4, 3, 5,\n",
    "                 2, 4, 5, 4, 2,\n",
    "                 4, 3, 4, 2, 2, 5,\n",
    "                 1, 3, 3, 2, 4])\n",
    "\n",
    "# Create utility matrix\n",
    "util_matrix = create_utility_matrix(idx_row = row, \n",
    "                                    idx_col = col, \n",
    "                                    data = data, \n",
    "                                    size = (6, 12))\n",
    "\n",
    "util_matrix"
   ]
  },
  {
   "attachments": {},
   "cell_type": "markdown",
   "metadata": {},
   "source": [
    "# Distance Functions"
   ]
  },
  {
   "cell_type": "code",
   "execution_count": 14,
   "metadata": {},
   "outputs": [],
   "source": [
    "def calc_similarity(x, y, types):\n",
    "    x = x.copy()\n",
    "    y = y.copy()\n",
    "    n = len(x)\n",
    "\n",
    "    if types == \"jaccard\":\n",
    "        r_x = np.isnull(x)\n",
    "        r_y = np.isnull(y)\n",
    "\n",
    "        intersect_ = np.sum(~(r_x | r_y))\n",
    "        union_ = np.sum(~(r_x & r_y))\n",
    "\n",
    "        similarity = intersect_ / union_\n",
    "\n",
    "    elif types == \"cosine\":\n",
    "        num_ = np.dot(x, y)\n",
    "        den_ = np.linalg.norm(x) * np.linalg.norm(y)\n",
    "\n",
    "        similarity = num_/den_\n",
    "\n",
    "    return similarity"
   ]
  },
  {
   "attachments": {},
   "cell_type": "markdown",
   "metadata": {},
   "source": [
    "# Find Neighbors"
   ]
  },
  {
   "cell_type": "code",
   "execution_count": 15,
   "metadata": {},
   "outputs": [],
   "source": [
    "def normalize_utility_matrix(utility_matrix):\n",
    "    utility_matrix = utility_matrix.copy()\n",
    "    n_items = utility_matrix.shape[0]\n",
    "    \n",
    "    # cari mean\n",
    "    m_item = np.nanmean(utility_matrix, axis = 1)\n",
    "\n",
    "    # perbaiki row\n",
    "    for i in range(n_items):\n",
    "        data_i = utility_matrix[i]\n",
    "        utility_matrix[i] = np.where(np.isnan(data_i), 0.0, data_i-m_item[i])\n",
    "\n",
    "    return utility_matrix\n"
   ]
  },
  {
   "cell_type": "code",
   "execution_count": 16,
   "metadata": {},
   "outputs": [],
   "source": [
    "def find_similarity(idx_item, utility_matrix):\n",
    "    n_items, n_users = utility_matrix.shape\n",
    "\n",
    "    # Find item-item similarity\n",
    "    # iterate over rows\n",
    "    target = utility_matrix[idx_item, :]\n",
    "\n",
    "    sim_val = np.zeros(n_items)\n",
    "    for i in range(n_items):\n",
    "        data_i = utility_matrix[i, :]\n",
    "        sim_i = calc_similarity(target, data_i, \"cosine\")\n",
    "        sim_val[i] = sim_i\n",
    "\n",
    "    return sim_val"
   ]
  },
  {
   "attachments": {},
   "cell_type": "markdown",
   "metadata": {},
   "source": [
    "# Predict Rating"
   ]
  },
  {
   "cell_type": "code",
   "execution_count": 17,
   "metadata": {},
   "outputs": [],
   "source": [
    "def predict_rating(idx_user, idx_item, n_neighbors, utility_matrix):\n",
    "    # overall mean item rating\n",
    "    mu = np.nanmean(utility_matrix)\n",
    "    b_x = np.nanmean(utility_matrix[:, idx_user]) - mu\n",
    "    b_i = np.nanstd(utility_matrix[idx_item, :])\n",
    "    b_xi = mu + b_x + b_i\n",
    "\n",
    "    # find rating of targetted user\n",
    "    rating_user = utility_matrix[:, idx_user]\n",
    "\n",
    "    # Normalize utility_matrix\n",
    "    util_matrix = normalize_utility_matrix(utility_matrix)\n",
    "\n",
    "    # Find item similarity\n",
    "    sim_items = find_similarity(idx_item, util_matrix)\n",
    "\n",
    "    # Find neighbors\n",
    "    idx_neighbors = np.argsort(sim_items)[::-1][1:n_neighbors+1]\n",
    "\n",
    "    # Calculate rating\n",
    "    num_ = 0\n",
    "    den_ = 0\n",
    "    for j in idx_neighbors:\n",
    "        b_j = np.nanstd(utility_matrix[j, :])\n",
    "        b_xj = mu + b_x + b_j\n",
    "        num_ += sim_items[j] * (rating_user[j] - b_xj)\n",
    "        den_ += sim_items[j]\n",
    "\n",
    "    rating_user_item = b_xi + num_/den_\n",
    "\n",
    "    return rating_user_item\n"
   ]
  },
  {
   "attachments": {},
   "cell_type": "markdown",
   "metadata": {},
   "source": [
    "# Show Times"
   ]
  },
  {
   "cell_type": "code",
   "execution_count": 18,
   "metadata": {},
   "outputs": [
    {
     "name": "stdout",
     "output_type": "stream",
     "text": [
      "rating of user-5 to item-1, r_(1,5) : 3.0\n"
     ]
    }
   ],
   "source": [
    "idx_user = 4\n",
    "idx_item = 0\n",
    "\n",
    "pred_rating = predict_rating(idx_user = idx_user,\n",
    "                             idx_item = idx_item,\n",
    "                             n_neighbors = 2,\n",
    "                             utility_matrix = util_matrix)\n",
    "print(f\"rating of user-{idx_user+1} to item-{idx_item+1}, r_({idx_item+1},{idx_user+1}) : {pred_rating:.1f}\")"
   ]
  },
  {
   "cell_type": "code",
   "execution_count": 19,
   "metadata": {},
   "outputs": [
    {
     "name": "stdout",
     "output_type": "stream",
     "text": [
      "rating of user-1 to item-1, r_(1,1) : 1.8\n"
     ]
    }
   ],
   "source": [
    "idx_user = 0\n",
    "idx_item = 0\n",
    "\n",
    "pred_rating = predict_rating(idx_user = idx_user,\n",
    "                             idx_item = idx_item,\n",
    "                             n_neighbors = 2,\n",
    "                             utility_matrix = util_matrix)\n",
    "print(f\"rating of user-{idx_user+1} to item-{idx_item+1}, r_({idx_item+1},{idx_user+1}) : {pred_rating:.1f}\")"
   ]
  },
  {
   "attachments": {},
   "cell_type": "markdown",
   "metadata": {},
   "source": [
    "*comment: user-6 has not been previously rated some/all of the most similar item to item-2* --> first rater"
   ]
  },
  {
   "cell_type": "code",
   "execution_count": 21,
   "metadata": {},
   "outputs": [
    {
     "name": "stdout",
     "output_type": "stream",
     "text": [
      "rating of user-3 to item-1, r_(1,3) : nan\n",
      "rating of user-3 to item-2, r_(2,3) : 4.2\n",
      "rating of user-3 to item-3, r_(3,3) : 3.0\n",
      "rating of user-3 to item-4, r_(4,3) : 4.5\n",
      "rating of user-3 to item-5, r_(5,3) : 4.3\n",
      "rating of user-3 to item-6, r_(6,3) : nan\n"
     ]
    }
   ],
   "source": [
    "idx_user = 2\n",
    "\n",
    "for i in range(6):\n",
    "    pred_rating = predict_rating(idx_user = idx_user,\n",
    "                                 idx_item = i,\n",
    "                                 n_neighbors = 2,\n",
    "                                 utility_matrix = util_matrix)\n",
    "    print(f\"rating of user-{idx_user+1} to item-{i+1}, r_({i+1},{idx_user+1}) : {pred_rating:.1f}\")"
   ]
  },
  {
   "cell_type": "code",
   "execution_count": null,
   "metadata": {},
   "outputs": [],
   "source": []
  }
 ],
 "metadata": {
  "kernelspec": {
   "display_name": "base",
   "language": "python",
   "name": "python3"
  },
  "language_info": {
   "codemirror_mode": {
    "name": "ipython",
    "version": 3
   },
   "file_extension": ".py",
   "mimetype": "text/x-python",
   "name": "python",
   "nbconvert_exporter": "python",
   "pygments_lexer": "ipython3",
   "version": "3.9.12"
  },
  "orig_nbformat": 4
 },
 "nbformat": 4,
 "nbformat_minor": 2
}
